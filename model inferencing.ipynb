{
 "cells": [
  {
   "cell_type": "code",
   "execution_count": 1,
   "id": "0f48d72b",
   "metadata": {},
   "outputs": [],
   "source": [
    "import pandas as pd\n",
    "import numpy as np\n",
    "import joblib"
   ]
  },
  {
   "cell_type": "code",
   "execution_count": 2,
   "id": "28eeb4c9",
   "metadata": {},
   "outputs": [],
   "source": [
    "user_input = {\n",
    "    'inning': 1,\n",
    "    'cumulative_runs': 80,            \n",
    "    'cumulative_wickets': 5,          \n",
    "    'overs_completed': 12.0,    \n",
    "    'target_score': 0,            \n",
    "    'batting_team': \"Mumbai Indians\",\n",
    "    'bowling_team': \"Chennai Super Kings\",\n",
    "    'venue': \"Wankhede Stadium\"  \n",
    "}"
   ]
  },
  {
   "cell_type": "code",
   "execution_count": 3,
   "id": "fec21207",
   "metadata": {},
   "outputs": [],
   "source": [
    "if user_input['overs_completed'] > 0:\n",
    "    current_run_rate = user_input['cumulative_runs'] / user_input['overs_completed']\n",
    "else:\n",
    "    current_run_rate = 0\n",
    "\n",
    "remaining_overs = 20 - user_input['overs_completed']\n",
    "if user_input['inning'] == 2 and remaining_overs > 0:\n",
    "    required_run_rate = (user_input['target'] - user_input['cumulative_runs']) / remaining_overs\n",
    "else:\n",
    "    required_run_rate = 0"
   ]
  },
  {
   "cell_type": "code",
   "execution_count": 4,
   "id": "a1ad5da4",
   "metadata": {},
   "outputs": [],
   "source": [
    "le_batting = joblib.load(\"label_batting.pkl\")\n",
    "le_bowling = joblib.load(\"label_bowling.pkl\")\n",
    "le_venue = joblib.load(\"label_venue.pkl\")\n",
    "model = joblib.load('final_rf_model.pkl')"
   ]
  },
  {
   "cell_type": "code",
   "execution_count": 6,
   "id": "6171dc61",
   "metadata": {},
   "outputs": [],
   "source": [
    "batting_team_encoded = le_batting.transform([user_input['batting_team']])[0]\n",
    "bowling_team_encoded = le_bowling.transform([user_input['bowling_team']])[0]\n",
    "venue_encoded = le_venue.transform([user_input['venue']])[0]\n",
    "\n"
   ]
  },
  {
   "cell_type": "code",
   "execution_count": 7,
   "id": "bda55658",
   "metadata": {},
   "outputs": [],
   "source": [
    "input_data = {\n",
    "    'inning': [user_input['inning']],\n",
    "    'cumulative_runs': [user_input['cumulative_runs']],\n",
    "    'cumulative_wickets': [user_input['cumulative_wickets']],\n",
    "    'current_run_rate': [current_run_rate],\n",
    "    'required_run_rate': [required_run_rate],\n",
    "    'target_score': [user_input['target_score']],\n",
    "    'batting_team_encoded': [batting_team_encoded],\n",
    "    'bowling_team_encoded': [bowling_team_encoded],\n",
    "    'venue_encoded': [venue_encoded],\n",
    "    'overs_completed':[user_input['overs_completed']]\n",
    "}\n",
    "\n",
    "input_df = pd.DataFrame(input_data)"
   ]
  },
  {
   "cell_type": "code",
   "execution_count": 8,
   "id": "f1f67de4",
   "metadata": {},
   "outputs": [
    {
     "name": "stdout",
     "output_type": "stream",
     "text": [
      "Predicted Winner: Chennai Super Kings\n",
      "Prediction Probabilities (Loss, Win): [0.905 0.095]\n"
     ]
    }
   ],
   "source": [
    "prediction = model.predict(input_df)[0]\n",
    "predicted_probabilities = model.predict_proba(input_df)[0]\n",
    "\n",
    "if prediction == 1:\n",
    "    predicted_winner = user_input['batting_team']\n",
    "else:\n",
    "    predicted_winner = user_input['bowling_team']\n",
    "\n",
    "print(\"Predicted Winner:\", predicted_winner)\n",
    "print(\"Prediction Probabilities (Loss, Win):\", predicted_probabilities)"
   ]
  },
  {
   "cell_type": "code",
   "execution_count": null,
   "id": "3c283a2a",
   "metadata": {},
   "outputs": [],
   "source": []
  }
 ],
 "metadata": {
  "kernelspec": {
   "display_name": "Python 3 (ipykernel)",
   "language": "python",
   "name": "python3"
  },
  "language_info": {
   "codemirror_mode": {
    "name": "ipython",
    "version": 3
   },
   "file_extension": ".py",
   "mimetype": "text/x-python",
   "name": "python",
   "nbconvert_exporter": "python",
   "pygments_lexer": "ipython3",
   "version": "3.11.4"
  }
 },
 "nbformat": 4,
 "nbformat_minor": 5
}
